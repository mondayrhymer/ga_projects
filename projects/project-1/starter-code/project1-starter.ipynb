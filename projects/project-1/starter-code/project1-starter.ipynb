{
 "cells": [
  {
   "cell_type": "markdown",
   "metadata": {},
   "source": [
    "# Project 1\n",
    "\n",
    "In this first project you will create a framework to scope out data science projects. This framework will provide you with a guide to develop a well-articulated problem statement and analysis plan that will be robust and reproducible."
   ]
  },
  {
   "cell_type": "markdown",
   "metadata": {},
   "source": [
    "### Read and evaluate the following problem statement: \n",
    "Determine which free-tier customers will covert to paying customers, using demographic data collected at signup (age, gender, location, and profession) and customer useage data (days since last log in, and activity score 1 = active user, 0= inactive user) based on Hooli data from Jan-Apr 2015. \n"
   ]
  },
  {
   "cell_type": "markdown",
   "metadata": {},
   "source": [
    "#### 1. What is the outcome?"
   ]
  },
  {
   "cell_type": "raw",
   "metadata": {},
   "source": [
    "Answer: The binary measured outcome of whether or not free-tier customers converted to paying customer status."
   ]
  },
  {
   "cell_type": "markdown",
   "metadata": {},
   "source": [
    "#### 2. What are the predictors/covariates? "
   ]
  },
  {
   "cell_type": "markdown",
   "metadata": {},
   "source": [
    "Answer: Any of the originally collected demographic data (age, gender, location, & profession) and customer usage data (days since last log in, & activity score)"
   ]
  },
  {
   "cell_type": "markdown",
   "metadata": {},
   "source": [
    "#### 3. What timeframe is this data relevent for?"
   ]
  },
  {
   "cell_type": "markdown",
   "metadata": {},
   "source": [
    "Answer: January through April of 2015"
   ]
  },
  {
   "cell_type": "markdown",
   "metadata": {},
   "source": [
    "#### 4. What is the hypothesis?"
   ]
  },
  {
   "cell_type": "markdown",
   "metadata": {},
   "source": [
    "Answer: No specific hypothesis is implied, but my specific hypothesis would be:  From the period of Jan-April 2015, when looking at converted paying customers when compared to free-tier customers, there will be specific professions that correlate to higher overall conversion rates relative to other professions.  This cutoff between what is considered a high conversion rate and not will be measured via the strength of correlation between each profession listed and the converted status."
   ]
  },
  {
   "cell_type": "markdown",
   "metadata": {},
   "source": [
    "## Let's get started with our dataset"
   ]
  },
  {
   "cell_type": "markdown",
   "metadata": {},
   "source": [
    "#### 1. Create a data dictionary "
   ]
  },
  {
   "cell_type": "markdown",
   "metadata": {},
   "source": [
    "Answer: \n",
    "\n",
    "Variable | Description | Type of Variable\n",
    "---| ---| ---\n",
    "Var 1 | 0 = not thing 1 = thing | categorical\n",
    "Var 2 | thing in unit X | continuous \n"
   ]
  },
  {
   "cell_type": "markdown",
   "metadata": {},
   "source": [
    "We would like to explore the association between X and Y "
   ]
  },
  {
   "cell_type": "code",
   "execution_count": 19,
   "metadata": {},
   "outputs": [],
   "source": [
    "# Testing a different way to read in the data using relative path method\n",
    "\n",
    "#import pandas as pd\n",
    "#import os \n",
    "#print(os.getcwd())\n",
    "#data = pd.read_csv(os.path.join('..','assets','admissions.csv')) #the '..' is relative to where you are"
   ]
  },
  {
   "cell_type": "code",
   "execution_count": 67,
   "metadata": {},
   "outputs": [
    {
     "name": "stdout",
     "output_type": "stream",
     "text": [
      "   admit    gre   gpa  prestige\n",
      "0      0  380.0  3.61       3.0\n",
      "1      1  660.0  3.67       3.0\n",
      "2      1  800.0  4.00       1.0\n",
      "3      1  640.0  3.19       4.0\n",
      "4      0  520.0  2.93       4.0\n",
      "            admit         gre        gpa    prestige\n",
      "count  400.000000  398.000000  398.00000  399.000000\n",
      "mean     0.317500  588.040201    3.39093    2.486216\n",
      "std      0.466087  115.628513    0.38063    0.945333\n",
      "min      0.000000  220.000000    2.26000    1.000000\n",
      "25%      0.000000  520.000000    3.13000    2.000000\n",
      "50%      0.000000  580.000000    3.39500    2.000000\n",
      "75%      1.000000  660.000000    3.67000    3.000000\n",
      "max      1.000000  800.000000    4.00000    4.000000\n",
      "prestige  1.0  2.0  3.0  4.0\n",
      "admit                       \n",
      "0          28   97   93   55\n",
      "1          33   53   28   12\n"
     ]
    },
    {
     "data": {
      "image/png": "[encoded data removed]",
      "text/plain": [
       "<matplotlib.figure.Figure at 0x119451a20>"
      ]
     },
     "metadata": {},
     "output_type": "display_data"
    }
   ],
   "source": [
    "import pandas as pd\n",
    "import numpy as np\n",
    "import os\n",
    "import pylab as pl\n",
    "\n",
    "# Reading in the data\n",
    "data = pd.read_csv('/Users/mundyreimer/documents/DAT-SM-18/projects/project-1/assets/admissions.csv')\n",
    "\n",
    "\n",
    "# Testing if the above works with the first 5 entries/rows\n",
    "print(data.head(5))\n",
    "\n",
    "\n",
    "# Summarizing the data\n",
    "print(data.describe())\n",
    "\n",
    "\n",
    "# Initializing & filling in the data dictionary: \n",
    "\n",
    "# First Method:\n",
    "#candidates = dict(data)\n",
    "\n",
    "# Second Method: ???\n",
    "#candidates = {'admit':[], 'gre':[], 'gpa':[], 'prestige':[]}\n",
    "#print(candidates)\n",
    "\n",
    "# Third Method: \n",
    "# I don't understand why the following doesn't work, \n",
    "# since this is the one more intuitive to me...\n",
    "#candidates = {}\n",
    "#for row in data:\n",
    "#    k,v = row\n",
    "#    candidates[k] = v\n",
    "\n",
    "\n",
    "# Starting Exploratory Data Analysis Phase\n",
    "# Plotting Frequency Tables\n",
    "print(pd.crosstab(data['admit'], data['prestige'], rownames=['admit']))\n",
    "data.hist()\n",
    "pl.show()"
   ]
  },
  {
   "cell_type": "markdown",
   "metadata": {},
   "source": [
    "#### 2. What is the outcome?"
   ]
  },
  {
   "cell_type": "markdown",
   "metadata": {},
   "source": [
    "Answer: The binary outcome admit (admitted=1, not admitted=0) of whether or not candidate was admitted to grad school."
   ]
  },
  {
   "cell_type": "markdown",
   "metadata": {},
   "source": [
    "#### 3. What are the predictors/covariates? "
   ]
  },
  {
   "cell_type": "markdown",
   "metadata": {},
   "source": [
    "Answer: The GRE, GPA, & the Prestige rank of the candidate's undergraduate school"
   ]
  },
  {
   "cell_type": "markdown",
   "metadata": {},
   "source": [
    "#### 4. What timeframe is this data relevent for?"
   ]
  },
  {
   "cell_type": "markdown",
   "metadata": {},
   "source": [
    "Answer: It doesn't specify (nor does the accompanying yhat link), but I am assuming it is from one application cycle."
   ]
  },
  {
   "cell_type": "markdown",
   "metadata": {},
   "source": [
    "#### 4. What is the hypothesis?"
   ]
  },
  {
   "cell_type": "markdown",
   "metadata": {},
   "source": [
    "Answer: A combination of GRE, GPA, & the Prestige/rank of the candidate's undergraduate school will allow us to predict whether or not they will be admitted to grad school"
   ]
  },
  {
   "cell_type": "markdown",
   "metadata": {},
   "source": [
    "    Using the above information, write a well-formed problem statement. \n"
   ]
  },
  {
   "cell_type": "markdown",
   "metadata": {},
   "source": [
    "## Problem Statement"
   ]
  },
  {
   "cell_type": "markdown",
   "metadata": {},
   "source": [
    "### Exploratory Analysis Plan"
   ]
  },
  {
   "cell_type": "markdown",
   "metadata": {},
   "source": [
    "Using the lab from a class as a guide, create an exploratory analysis plan. "
   ]
  },
  {
   "cell_type": "markdown",
   "metadata": {},
   "source": [
    "#### 1. What are the goals of the exploratory analysis? "
   ]
  },
  {
   "cell_type": "markdown",
   "metadata": {
    "collapsed": true
   },
   "source": [
    "Answer: To summarize the data in order to later formulate hypotheses that could lead to experiments or formal data analysis via modeling."
   ]
  },
  {
   "cell_type": "markdown",
   "metadata": {},
   "source": [
    "#### 2a. What are the assumptions of the distribution of data? "
   ]
  },
  {
   "cell_type": "markdown",
   "metadata": {},
   "source": [
    "Answer:  I would assume that the data are normally distributed."
   ]
  },
  {
   "cell_type": "markdown",
   "metadata": {},
   "source": [
    "#### 2b. How will determine the distribution of your data? "
   ]
  },
  {
   "cell_type": "markdown",
   "metadata": {
    "collapsed": true
   },
   "source": [
    "Answer: I would plot a histogram (discrete) or density (continuous) of each predictor variable of the data."
   ]
  },
  {
   "cell_type": "markdown",
   "metadata": {},
   "source": [
    "#### 3a. How might outliers impact your analysis? "
   ]
  },
  {
   "cell_type": "markdown",
   "metadata": {
    "collapsed": true
   },
   "source": [
    "Answer: If I were using the mean as a measure, outliers would bias it as opposed to the median.  Outliers might also skew my plotted data distribution."
   ]
  },
  {
   "cell_type": "markdown",
   "metadata": {},
   "source": [
    "#### 3b. How will you test for outliers? "
   ]
  },
  {
   "cell_type": "markdown",
   "metadata": {},
   "source": [
    "Answer: I can use a 1.5X rule, where if a predictor variable is 1.5x the Interquartile Range (IQR), either above or below, I would call it an outlier."
   ]
  },
  {
   "cell_type": "markdown",
   "metadata": {},
   "source": [
    "#### 4a. What is colinearity? "
   ]
  },
  {
   "cell_type": "markdown",
   "metadata": {
    "collapsed": true
   },
   "source": [
    "Answer: Colinearity occurs when one of my predictor variables is able to \"explain\" or be linearly predicted from the other predictor variables.  When one of these variables is perfectly colinear, then it is composed of some linear combination of the other variables (and thus the predictor space can possible be \"compressed\" down into a lower vector space)"
   ]
  },
  {
   "cell_type": "markdown",
   "metadata": {},
   "source": [
    "#### 4b. How will you test for colinearity? "
   ]
  },
  {
   "cell_type": "markdown",
   "metadata": {},
   "source": [
    "Answer: You can plot the correlation among each of the predictor/explanatory variables.  If there is strong correlation amongst some subset of them, then there is some possible indication of colinearity."
   ]
  },
  {
   "cell_type": "markdown",
   "metadata": {},
   "source": [
    "#### 5. What is your exploratory analysis plan?\n",
    "Using the above information, write an exploratory analysis plan that would allow you or a colleague to reproduce your analysis 1 year from now. "
   ]
  },
  {
   "cell_type": "markdown",
   "metadata": {},
   "source": [
    "Answer: \n",
    "1) Collect the data and read it into an IPython Notebook (for reproducibility & traceability) as a data frame/data dictionary\n",
    "2) Run a quick summary of the data to get features such as mean, median, mode, IQR, etc.  Be sure to identify possible outliers using the 1.5xIQR heuristic.\n",
    "3) Plot each of the predictor variables' distribution to begin to identify the shapes of the data sets\n",
    "4) Identify possible colinear predictor variables.  This would allow you to possibly set a reference variable or cut down the size of your data set.  It might also allow you to frame possible alternative hypotheses.\n",
    "5) Formulate a hypothesis: For instance, I hypothesize that there would be a stronger correlation between GRE & GPA scores to whether or not the candidate was admitted, when compared to the hypothesized weaker correlation between rank of school and whether or not the candidate was admitted.\n",
    "6) Test the hypothesis.  If the hypothesis turns out to be wrong, report that anyways so you are not contributing to the publication bias (only reporting positive results).  "
   ]
  },
  {
   "cell_type": "markdown",
   "metadata": {},
   "source": [
    "## Bonus Questions:\n",
    "1. Outline your analysis method for predicting your outcome\n",
    "2. Write an alternative problem statement for your dataset\n",
    "3. Articulate the assumptions and risks of the alternative model"
   ]
  },
  {
   "cell_type": "code",
   "execution_count": 66,
   "metadata": {},
   "outputs": [
    {
     "data": {
      "text/plain": [
       "'2) Another hypothesis could be that there are no strong correlations between any \\nof the predictor variables and the measured \"admit\" variable.\\n3) Given that many of these predictor variables could be colinear due underlying common \\ncauses that are not in this data set, these variables could show an \"all-or-none\" effect\\nwhere there is a strong bimodal distribution to the data set.  This colinearity might\\nalso strengthen hypotheses (due to the assumption that all of these variables are contributing\\nan effect), when in fact they might be all be explaining the same hidden variable'"
      ]
     },
     "execution_count": 66,
     "metadata": {},
     "output_type": "execute_result"
    }
   ],
   "source": [
    "'''2) Another hypothesis could be that there are no strong correlations between any \n",
    "of the predictor variables and the measured \"admit\" variable.\n",
    "3) Given that many of these predictor variables could be colinear due underlying common \n",
    "causes that are not in this data set, these variables could show an \"all-or-none\" effect\n",
    "where there is a strong bimodal distribution to the data set.  This colinearity might\n",
    "also strengthen hypotheses (due to the assumption that all of these variables are contributing\n",
    "an effect), when in fact they might be all be explaining the same hidden variable'''"
   ]
  },
  {
   "cell_type": "code",
   "execution_count": null,
   "metadata": {
    "collapsed": true
   },
   "outputs": [],
   "source": []
  }
 ],
 "metadata": {
  "kernelspec": {
   "display_name": "Python 3",
   "language": "python",
   "name": "python3"
  },
  "language_info": {
   "codemirror_mode": {
    "name": "ipython",
    "version": 3
   },
   "file_extension": ".py",
   "mimetype": "text/x-python",
   "name": "python",
   "nbconvert_exporter": "python",
   "pygments_lexer": "ipython3",
   "version": "3.6.3"
  }
 },
 "nbformat": 4,
 "nbformat_minor": 1
}
